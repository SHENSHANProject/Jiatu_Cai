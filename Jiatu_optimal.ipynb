{
 "cells": [
  {
   "cell_type": "code",
   "execution_count": 24,
   "metadata": {},
   "outputs": [],
   "source": [
    "import numpy as np\n",
    "import matplotlib.pyplot as plt\n",
    "import numpy.random as npr\n",
    "from scipy.stats import norm\n",
    "\n",
    "import pandas as pd\n",
    "from pynverse import inversefunc"
   ]
  },
  {
   "cell_type": "code",
   "execution_count": 85,
   "metadata": {},
   "outputs": [],
   "source": [
    "r0 = 0 # rate of intrests\n",
    "b = 0.1 # drift term of Black sholes\n",
    "sigma = 0.3\n",
    "\n",
    "# Calculate Euroupe call price\n",
    "def call_price(K,S0,sigma,r=r0,T=1.0):\n",
    "    v = sigma* np.sqrt(T)\n",
    "    d1 = (np.log(S0/K)+r*T+v**2/2)/v\n",
    "    d2 = d1-v\n",
    "    return norm.cdf(d1)*S0-norm.cdf(d2)*K*np.exp(-r*T)\n",
    "\n",
    "def delta_call(t,K,S,sigma=sigma,r=r0,T=1.0):\n",
    "    v = sigma* np.sqrt(T-t)\n",
    "    d1 = (np.log(S/K)+r*(T-t)+v**2/2)/v\n",
    "    \n",
    "    return norm.cdf(d1)\n",
    "\n",
    "def Gamma_call(t,K,S,sigma=sigma,r=r0,T=1.0) :\n",
    "    v = sigma* np.sqrt(T-t)\n",
    "    d1 = (np.log(S/K)+r*(T-t)+v**2/2)/v\n",
    "    \n",
    "    return norm.pdf(d1)/(S*v)\n",
    "\n",
    "\n",
    "def Yt(M=10000,S0=100,r=b,T=1.0,sigma=sigma, N = 80001):\n",
    "    t = T/(N-1)\n",
    "    # initialisation of stock price\n",
    "    yt = np.exp(t*(np.ones((M,N)).cumsum(axis=1)-1)*(r-0.5*sigma**2))*S0\n",
    "    Wt = npr.randn(M,N)*np.sqrt(t)\n",
    "    Wt[:,0]=0\n",
    "    Wt = Wt.cumsum(axis=1)\n",
    "    yt = yt*np.exp(sigma*Wt)\n",
    "    return yt"
   ]
  },
  {
   "cell_type": "code",
   "execution_count": 274,
   "metadata": {},
   "outputs": [],
   "source": [
    "epsilon =np.concatenate([np.arange(10,20,2)/10,np.arange(20,44,4)/10])"
   ]
  },
  {
   "cell_type": "code",
   "execution_count": 25,
   "metadata": {},
   "outputs": [],
   "source": [
    "# Define the function we need to inverse in the calculation of Pt\n",
    "fun_L = (lambda x: x*np.exp(x))\n",
    "L_inverse = inversefunc(fun_L)"
   ]
  },
  {
   "cell_type": "code",
   "execution_count": 35,
   "metadata": {},
   "outputs": [],
   "source": [
    "def Pt_and_dPt(t,T=1.0,mu=1,b=0.1,sigma=0.3):\n",
    "    rho = b/sigma\n",
    "    tmp = 0.5*np.exp(rho**2*(T-t)+0.5)\n",
    "    Pt = mu/L_inverse(tmp)\n",
    "    dPt = rho**2*(Pt**2)/(Pt+mu)\n",
    "    return Pt,dPt"
   ]
  },
  {
   "cell_type": "code",
   "execution_count": 49,
   "metadata": {},
   "outputs": [],
   "source": [
    "p = (np.ones(10).cumsum(axis=0)-1)\n",
    "p=np.apply_along_axis((lambda x: Pt_and_dPt(x)),0,p)"
   ]
  },
  {
   "cell_type": "code",
   "execution_count": 251,
   "metadata": {},
   "outputs": [],
   "source": [
    "def yt_st(M=10000,S0=100,r=b,T=1.0,sigma=sigma, N = 80001,mu=1):\n",
    "    t = T/(N-1)\n",
    "     # initialisation of stock price\n",
    "    yt = np.exp(t*(np.ones((M,N)).cumsum(axis=1)-1)*(r-0.5*sigma**2))*S0\n",
    "    \n",
    "    dWt = npr.randn(M,N)*np.sqrt(t)\n",
    "    dWt[:,0]=0\n",
    "    Wt = dWt.cumsum(axis=1)\n",
    "    yt = yt*np.exp(sigma*Wt)\n",
    "    \n",
    "    # Caculate pt and dpt\n",
    "    pt_dpt = t*(np.ones(N).cumsum(axis=0)-1)\n",
    "    pt_dpt = np.apply_along_axis((lambda x: Pt_and_dPt(x,mu=mu)),0,pt_dpt)\n",
    "    pt = pt_dpt[0]\n",
    "    dpt = pt_dpt[1]\n",
    "    \n",
    "    dpt_over_pt = dpt/pt\n",
    "    rho = b/sigma\n",
    "    # We want to caculate tilde(z_star) in paper\n",
    "    zt = np.zeros((M,N))\n",
    "    zt[:,0]=-1.0/(2*mu)\n",
    "    for i in range(1,N):\n",
    "        zt[:,i]=zt[:,i-1]+zt[:,i-1]*(-dpt_over_pt[i-1])*(t+dWt[:,i]/rho)\n",
    "    \n",
    "    st = -3/b*dpt_over_pt*(zt/yt)\n",
    "    \n",
    "    return yt,st,zt\n",
    "    "
   ]
  },
  {
   "cell_type": "code",
   "execution_count": null,
   "metadata": {},
   "outputs": [],
   "source": [
    "yt,st,zt = yt_st(M=10000)"
   ]
  },
  {
   "cell_type": "code",
   "execution_count": null,
   "metadata": {},
   "outputs": [],
   "source": [
    "plt.plot(yt[0]);"
   ]
  },
  {
   "cell_type": "code",
   "execution_count": null,
   "metadata": {},
   "outputs": [],
   "source": [
    "plt.plot(st[0]);"
   ]
  },
  {
   "cell_type": "code",
   "execution_count": null,
   "metadata": {},
   "outputs": [],
   "source": [
    "def Jiatu(Yt,st,epsilon,K,d=0,r=r0,T=1.0,sigma=sigma): # here d is delta in the paper\n",
    "    M,N = Yt.shape\n",
    "    dt = T/(N-1)\n",
    "\n",
    "    if d==0:\n",
    "        l_d_t = st*epsilon\n",
    "        l_u_t = np.zeros((M,N))\n",
    "    else:\n",
    "        l_d_t = (np.sqrt((st**2)/4+(6*d)/sigma**2)+st/2)*epsilon\n",
    "        l_u_t = (np.sqrt((st**2)/4+(6*d)/sigma**2)-st/2)*epsilon\n",
    "    \n",
    "    \n",
    "    hedge_bs = np.ones(M)*call_price(K,Yt[0,0],sigma,r,T) # Hedging by Black-sholes\n",
    "    hedge_jia = np.ones(M)*call_price(K,Yt[0,0],sigma,r,T) # Hedging by Jiatu\n",
    "    \n",
    "    delta_bs = delta_call(0,K,Yt[:,0])\n",
    "    delta_jia = delta_call(0,K,Yt[:,0])\n",
    "    \n",
    "    last_price_bs = Yt[:,0]\n",
    "    last_price_jia = Yt[:,0]\n",
    "    \n",
    "    NR_jia = np.zeros(M)\n",
    "    \n",
    "    \n",
    "    for i in range(1,N-1):\n",
    "        # Update standard BS hedging portfolio\n",
    "        hedge_bs+=delta_bs*(Yt[:,i]-last_price_bs)\n",
    "        delta_bs = delta_call(dt*i,K,Yt[:,i])\n",
    "        last_price_bs = Yt[:,i]\n",
    "        # Update Massaki portfolio\n",
    "        #tmp = Yt[:,i]>=(last_price_jia+l_u_t[:,i])\n",
    "        tmp =np.logical_or((delta_bs>=delta_jia+l_u_t[:,i]),(delta_bs<=delta_jia-l_d_t[:,i]))\n",
    "        \n",
    "        hedge_jia+=tmp*(Yt[:,i]-last_price_jia)*delta_jia\n",
    "        delta_jia =tmp*delta_call(dt*i,K,Yt[:,i])+(1-tmp)*delta_jia\n",
    "        last_price_jia=tmp*Yt[:,i]+(1-tmp)*last_price_jia\n",
    "        \n",
    "        #print(sum(gamma_ma))\n",
    "        NR_jia+=tmp\n",
    "     \n",
    "    hedge_bs+=delta_bs*(Yt[:,-1]-last_price_bs)\n",
    "    hedge_jia+=delta_jia*(Yt[:,-1]-last_price_jia)\n",
    "    \n",
    "    return hedge_jia-hedge_bs,NR_jia"
   ]
  },
  {
   "cell_type": "code",
   "execution_count": null,
   "metadata": {},
   "outputs": [],
   "source": [
    "z,nr = Jiatu(yt,st,epsilon[0],100)"
   ]
  },
  {
   "cell_type": "code",
   "execution_count": null,
   "metadata": {},
   "outputs": [],
   "source": [
    "EZn=[]\n",
    "EZn2=[]\n",
    "\n",
    "for e in epsilon:\n",
    "    z,nr = Jiatu(yt,st,e,100)\n",
    "    EZn.append(z.mean())\n",
    "    EZn2.append((z*z).mean())\n",
    "    print(\"epsilon {} is done..\".format(e))\n",
    "\n",
    "plt.plot(EZn,EZn2)"
   ]
  },
  {
   "cell_type": "code",
   "execution_count": null,
   "metadata": {},
   "outputs": [],
   "source": [
    "plt.scatter(EZn,EZn2)"
   ]
  },
  {
   "cell_type": "code",
   "execution_count": null,
   "metadata": {},
   "outputs": [],
   "source": []
  }
 ],
 "metadata": {
  "kernelspec": {
   "display_name": "Python 3",
   "language": "python",
   "name": "python3"
  },
  "language_info": {
   "codemirror_mode": {
    "name": "ipython",
    "version": 3
   },
   "file_extension": ".py",
   "mimetype": "text/x-python",
   "name": "python",
   "nbconvert_exporter": "python",
   "pygments_lexer": "ipython3",
   "version": "3.6.8"
  }
 },
 "nbformat": 4,
 "nbformat_minor": 2
}
